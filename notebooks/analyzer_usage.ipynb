{
 "cells": [
  {
   "cell_type": "code",
   "execution_count": 13,
   "metadata": {},
   "outputs": [],
   "source": [
    "import os\n",
    "import sys\n",
    "import pandas as pd\n",
    "import numpy as np\n",
    "sys.path.append(os.path.abspath(\"..\"))"
   ]
  },
  {
   "cell_type": "markdown",
   "metadata": {},
   "source": [
    "## EIS"
   ]
  },
  {
   "cell_type": "code",
   "execution_count": 14,
   "metadata": {},
   "outputs": [],
   "source": [
    "from gamryparser import Parser\n",
    "from gamryparser.analysis import Analyzer, EISAnalyzer, CVAnalyzer"
   ]
  },
  {
   "cell_type": "code",
   "execution_count": 15,
   "metadata": {},
   "outputs": [],
   "source": [
    "eis = Parser.from_file(r\"C:\\Users\\mtenenba\\Desktop\\GamryParser\\data\\raw\\20240401_B_GM0016_HL03_E01_EIS.DTA\")"
   ]
  },
  {
   "cell_type": "code",
   "execution_count": 16,
   "metadata": {},
   "outputs": [
    {
     "data": {
      "text/plain": [
       "dict_keys(['OCVCURVE', 'ZCURVE'])"
      ]
     },
     "execution_count": 16,
     "metadata": {},
     "output_type": "execute_result"
    }
   ],
   "source": [
    "eis.dataframes.keys()"
   ]
  },
  {
   "cell_type": "code",
   "execution_count": 17,
   "metadata": {},
   "outputs": [],
   "source": [
    "analyzer = EISAnalyzer(eis, table_name=\"ZCURVE\")"
   ]
  },
  {
   "cell_type": "code",
   "execution_count": 18,
   "metadata": {},
   "outputs": [
    {
     "data": {
      "text/plain": [
       "'EISPOT'"
      ]
     },
     "execution_count": 18,
     "metadata": {},
     "output_type": "execute_result"
    }
   ],
   "source": [
    "analyzer.experiment"
   ]
  },
  {
   "cell_type": "code",
   "execution_count": 19,
   "metadata": {},
   "outputs": [
    {
     "data": {
      "text/html": [
       "<div>\n",
       "<style scoped>\n",
       "    .dataframe tbody tr th:only-of-type {\n",
       "        vertical-align: middle;\n",
       "    }\n",
       "\n",
       "    .dataframe tbody tr th {\n",
       "        vertical-align: top;\n",
       "    }\n",
       "\n",
       "    .dataframe thead th {\n",
       "        text-align: right;\n",
       "    }\n",
       "</style>\n",
       "<table border=\"1\" class=\"dataframe\">\n",
       "  <thead>\n",
       "    <tr style=\"text-align: right;\">\n",
       "      <th>1</th>\n",
       "      <th>Pt</th>\n",
       "      <th>Time</th>\n",
       "      <th>Freq</th>\n",
       "      <th>Zreal</th>\n",
       "      <th>Zimag</th>\n",
       "      <th>Zsig</th>\n",
       "      <th>Zmod</th>\n",
       "      <th>Zphz</th>\n",
       "      <th>Idc</th>\n",
       "      <th>Vdc</th>\n",
       "      <th>IERange</th>\n",
       "    </tr>\n",
       "  </thead>\n",
       "  <tbody>\n",
       "    <tr>\n",
       "      <th>0</th>\n",
       "      <td>0</td>\n",
       "      <td>1</td>\n",
       "      <td>100078.10</td>\n",
       "      <td>5801.815</td>\n",
       "      <td>-7726.36</td>\n",
       "      <td>1</td>\n",
       "      <td>9662.18</td>\n",
       "      <td>-53.09668</td>\n",
       "      <td>3.372973e-09</td>\n",
       "      <td>5.998423e-06</td>\n",
       "      <td>7</td>\n",
       "    </tr>\n",
       "    <tr>\n",
       "      <th>1</th>\n",
       "      <td>1</td>\n",
       "      <td>2</td>\n",
       "      <td>79453.13</td>\n",
       "      <td>6119.737</td>\n",
       "      <td>-9334.17</td>\n",
       "      <td>1</td>\n",
       "      <td>11161.45</td>\n",
       "      <td>-56.75006</td>\n",
       "      <td>3.461267e-09</td>\n",
       "      <td>6.907001e-06</td>\n",
       "      <td>7</td>\n",
       "    </tr>\n",
       "    <tr>\n",
       "      <th>2</th>\n",
       "      <td>2</td>\n",
       "      <td>4</td>\n",
       "      <td>63140.62</td>\n",
       "      <td>6668.567</td>\n",
       "      <td>-11295.50</td>\n",
       "      <td>1</td>\n",
       "      <td>13117.09</td>\n",
       "      <td>-59.44352</td>\n",
       "      <td>-1.203286e-10</td>\n",
       "      <td>4.990499e-06</td>\n",
       "      <td>6</td>\n",
       "    </tr>\n",
       "    <tr>\n",
       "      <th>3</th>\n",
       "      <td>3</td>\n",
       "      <td>5</td>\n",
       "      <td>50203.12</td>\n",
       "      <td>7182.266</td>\n",
       "      <td>-13780.20</td>\n",
       "      <td>1</td>\n",
       "      <td>15539.59</td>\n",
       "      <td>-62.47139</td>\n",
       "      <td>-8.454659e-11</td>\n",
       "      <td>5.107722e-07</td>\n",
       "      <td>6</td>\n",
       "    </tr>\n",
       "    <tr>\n",
       "      <th>4</th>\n",
       "      <td>4</td>\n",
       "      <td>7</td>\n",
       "      <td>39890.62</td>\n",
       "      <td>7851.447</td>\n",
       "      <td>-16848.13</td>\n",
       "      <td>1</td>\n",
       "      <td>18587.76</td>\n",
       "      <td>-65.01387</td>\n",
       "      <td>-4.739706e-10</td>\n",
       "      <td>-7.321869e-07</td>\n",
       "      <td>6</td>\n",
       "    </tr>\n",
       "  </tbody>\n",
       "</table>\n",
       "</div>"
      ],
      "text/plain": [
       "1  Pt  Time       Freq     Zreal     Zimag  Zsig      Zmod      Zphz  \\\n",
       "0   0     1  100078.10  5801.815  -7726.36     1   9662.18 -53.09668   \n",
       "1   1     2   79453.13  6119.737  -9334.17     1  11161.45 -56.75006   \n",
       "2   2     4   63140.62  6668.567 -11295.50     1  13117.09 -59.44352   \n",
       "3   3     5   50203.12  7182.266 -13780.20     1  15539.59 -62.47139   \n",
       "4   4     7   39890.62  7851.447 -16848.13     1  18587.76 -65.01387   \n",
       "\n",
       "1           Idc           Vdc  IERange  \n",
       "0  3.372973e-09  5.998423e-06        7  \n",
       "1  3.461267e-09  6.907001e-06        7  \n",
       "2 -1.203286e-10  4.990499e-06        6  \n",
       "3 -8.454659e-11  5.107722e-07        6  \n",
       "4 -4.739706e-10 -7.321869e-07        6  "
      ]
     },
     "execution_count": 19,
     "metadata": {},
     "output_type": "execute_result"
    }
   ],
   "source": [
    "analyzer.df.head()"
   ]
  },
  {
   "cell_type": "code",
   "execution_count": 20,
   "metadata": {},
   "outputs": [
    {
     "data": {
      "text/html": [
       "<div>\n",
       "<style scoped>\n",
       "    .dataframe tbody tr th:only-of-type {\n",
       "        vertical-align: middle;\n",
       "    }\n",
       "\n",
       "    .dataframe tbody tr th {\n",
       "        vertical-align: top;\n",
       "    }\n",
       "\n",
       "    .dataframe thead th {\n",
       "        text-align: right;\n",
       "    }\n",
       "</style>\n",
       "<table border=\"1\" class=\"dataframe\">\n",
       "  <thead>\n",
       "    <tr style=\"text-align: right;\">\n",
       "      <th></th>\n",
       "      <th>Source</th>\n",
       "      <th>Zmod @ 1000 Hz (Ω)</th>\n",
       "      <th>Phase @ 1000 Hz (°)</th>\n",
       "      <th>Rs (Ω)</th>\n",
       "      <th>Estimated Rct (Ω)</th>\n",
       "      <th>log-log slope</th>\n",
       "    </tr>\n",
       "  </thead>\n",
       "  <tbody>\n",
       "    <tr>\n",
       "      <th>0</th>\n",
       "      <td>C:\\Users\\mtenenba\\Desktop\\GamryParser\\data\\raw...</td>\n",
       "      <td>398455.8</td>\n",
       "      <td>-74.26234</td>\n",
       "      <td>5801.815</td>\n",
       "      <td>2.365079e+08</td>\n",
       "      <td>-0.82255</td>\n",
       "    </tr>\n",
       "  </tbody>\n",
       "</table>\n",
       "</div>"
      ],
      "text/plain": [
       "                                              Source  Zmod @ 1000 Hz (Ω)  \\\n",
       "0  C:\\Users\\mtenenba\\Desktop\\GamryParser\\data\\raw...            398455.8   \n",
       "\n",
       "   Phase @ 1000 Hz (°)    Rs (Ω)  Estimated Rct (Ω)  log-log slope  \n",
       "0            -74.26234  5801.815       2.365079e+08       -0.82255  "
      ]
     },
     "execution_count": 20,
     "metadata": {},
     "output_type": "execute_result"
    }
   ],
   "source": [
    "summary = analyzer.summary()\n",
    "pd.DataFrame([summary])"
   ]
  },
  {
   "cell_type": "code",
   "execution_count": 21,
   "metadata": {},
   "outputs": [
    {
     "name": "stdout",
     "output_type": "stream",
     "text": [
      "Zmod @ 1kHz: 398455.80 Ω\n",
      "Phase @ 1kHz: -74.26°\n",
      "Rs (solution resistance): 5801.81 Ω\n",
      "Estimated Rct: 236507898.19 Ω\n",
      "log-log slope: -0.823\n"
     ]
    }
   ],
   "source": [
    "# Zmod and phase angle at 1kHz\n",
    "zmod_1k, zphz_1k = analyzer.get_impedance_at_freq(freq=1000)\n",
    "print(f\"Zmod @ 1kHz: {zmod_1k:.2f} Ω\")\n",
    "print(f\"Phase @ 1kHz: {zphz_1k:.2f}°\")\n",
    "\n",
    "# Solution resistance\n",
    "rs = analyzer.get_solution_resistance()\n",
    "print(f\"Rs (solution resistance): {rs:.2f} Ω\")\n",
    "\n",
    "# Estimated charge transfer resistance\n",
    "rct = analyzer.estimate_rct()\n",
    "print(f\"Estimated Rct: {rct:.2f} Ω\")\n",
    "\n",
    "# Slope of log-log impedance vs frequency\n",
    "slope = analyzer.log_log_slope()\n",
    "print(f\"log-log slope: {slope:.3f}\")\n"
   ]
  },
  {
   "cell_type": "code",
   "execution_count": 22,
   "metadata": {},
   "outputs": [],
   "source": [
    "# You can also analyze individual CSVs without using a Parser\n",
    "#analyzer_csv = EISAnalyzer(r\"C:\\Users\\mtenenba\\Desktop\\GamryParser\\data\\processed\\20240401_B_GM0016_HL03_E01_EIS_ZCURVE.csv\")\n",
    "#analyzer_csv.summary()"
   ]
  },
  {
   "cell_type": "markdown",
   "metadata": {},
   "source": [
    "## CV"
   ]
  },
  {
   "cell_type": "code",
   "execution_count": 23,
   "metadata": {},
   "outputs": [],
   "source": [
    "cv = Parser.from_file(r\"C:\\Users\\mtenenba\\Desktop\\GamryParser\\data\\raw\\20240321_C_GM0016_HL03_E01_CV50.DTA\")"
   ]
  },
  {
   "cell_type": "code",
   "execution_count": 25,
   "metadata": {},
   "outputs": [],
   "source": [
    "cv_analysis = CVAnalyzer(cv, 'CURVE2')"
   ]
  },
  {
   "cell_type": "code",
   "execution_count": 29,
   "metadata": {},
   "outputs": [
    {
     "name": "stdout",
     "output_type": "stream",
     "text": [
      "Charge Storage Capacity (Cathodal): 6.018984826019652\n",
      "Charge Storage Capacity (Anodal): 0.19483748812497625\n"
     ]
    }
   ],
   "source": [
    "csca = cv_analysis.get_csc_anodal()\n",
    "cscc = cv_analysis.get_csc_cathodal()\n",
    "\n",
    "print(f\"Charge Storage Capacity (Cathodal): {cscc}\")\n",
    "print(f\"Charge Storage Capacity (Anodal): {csca}\")"
   ]
  },
  {
   "cell_type": "code",
   "execution_count": 35,
   "metadata": {},
   "outputs": [
    {
     "name": "stdout",
     "output_type": "stream",
     "text": [
      "CURVE1\n",
      "Charge Storage Capacity (Cathodal): 6.043891020432041\n",
      "Charge Storage Capacity (Anodal): 0.1934467538935078\n",
      "\n",
      "CURVE2\n",
      "Charge Storage Capacity (Cathodal): 6.018984826019652\n",
      "Charge Storage Capacity (Anodal): 0.19483748812497625\n",
      "\n",
      "CURVE3\n",
      "Charge Storage Capacity (Cathodal): 5.996844040338081\n",
      "Charge Storage Capacity (Anodal): 0.19361742458484918\n",
      "\n",
      "CURVE4\n",
      "Charge Storage Capacity (Cathodal): 5.985793671887344\n",
      "Charge Storage Capacity (Anodal): 0.1914273165546331\n",
      "\n",
      "CURVE5\n",
      "Charge Storage Capacity (Cathodal): 0.047806325807651616\n",
      "Charge Storage Capacity (Anodal): 0.005780819366638734\n",
      "\n"
     ]
    }
   ],
   "source": [
    "# To calculate for all\n",
    "for df in cv.dataframes:\n",
    "    if df[:5] == 'CURVE':\n",
    "        cv_analysis = CVAnalyzer(cv, df)\n",
    "        csca = cv_analysis.get_csc_anodal()\n",
    "        cscc = cv_analysis.get_csc_cathodal()\n",
    "        print(df)\n",
    "        print(f\"Charge Storage Capacity (Cathodal): {cscc}\")\n",
    "        print(f\"Charge Storage Capacity (Anodal): {csca}\\n\")\n"
   ]
  },
  {
   "cell_type": "code",
   "execution_count": null,
   "metadata": {},
   "outputs": [],
   "source": []
  }
 ],
 "metadata": {
  "kernelspec": {
   "display_name": ".venv",
   "language": "python",
   "name": "python3"
  },
  "language_info": {
   "codemirror_mode": {
    "name": "ipython",
    "version": 3
   },
   "file_extension": ".py",
   "mimetype": "text/x-python",
   "name": "python",
   "nbconvert_exporter": "python",
   "pygments_lexer": "ipython3",
   "version": "3.12.10"
  }
 },
 "nbformat": 4,
 "nbformat_minor": 2
}
